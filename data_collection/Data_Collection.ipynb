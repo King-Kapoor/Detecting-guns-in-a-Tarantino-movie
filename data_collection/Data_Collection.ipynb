{
 "cells": [
  {
   "cell_type": "markdown",
   "metadata": {},
   "source": [
    "# Splitting Westworld episodes into frames"
   ]
  },
  {
   "cell_type": "code",
   "execution_count": 11,
   "metadata": {},
   "outputs": [],
   "source": [
    "import cv2     # for capturing videos\n",
    "import math\n",
    "import matplotlib.pyplot as plt    # for plotting the images\n",
    "%matplotlib inline\n",
    "import pandas as pd\n",
    "import numpy as np    # for mathematical operations\n",
    "from skimage.transform import resize   # for resizing images"
   ]
  },
  {
   "cell_type": "code",
   "execution_count": 12,
   "metadata": {},
   "outputs": [
    {
     "name": "stdout",
     "output_type": "stream",
     "text": [
      "Done!\n"
     ]
    }
   ],
   "source": [
    "count = 0\n",
    "for i in range(1, 11):\n",
    "    videoFile = f\"Westworld.S01E{i}.mkv\"\n",
    "    cap = cv2.VideoCapture(videoFile)   # capturing the video from the given path\n",
    "    frameRate = cap.get(5) #frame rate\n",
    "    x=1\n",
    "    while(cap.isOpened()):\n",
    "        frameId = cap.get(1) # current frame number\n",
    "        ret, frame = cap.read()\n",
    "        if (ret != True):\n",
    "            break\n",
    "        if (frameId % math.floor(frameRate) == 0):\n",
    "            filename =\"frame%d.jpg\" % count;count+=1\n",
    "            cv2.imwrite(filename, frame)\n",
    "    cap.release()\n",
    "print(\"Done!\")\n"
   ]
  },
  {
   "cell_type": "markdown",
   "metadata": {},
   "source": [
    "# Extracting data from web"
   ]
  },
  {
   "cell_type": "code",
   "execution_count": 1,
   "metadata": {},
   "outputs": [],
   "source": [
    "from bs4 import BeautifulSoup\n",
    "import pandas as pd\n",
    "import numpy as np\n",
    "import requests\n",
    "import shutil"
   ]
  },
  {
   "cell_type": "markdown",
   "metadata": {},
   "source": [
    "## HBO"
   ]
  },
  {
   "cell_type": "code",
   "execution_count": 47,
   "metadata": {},
   "outputs": [],
   "source": [
    "response = requests.get('http://www.imfdb.org/wiki/Category:HBO')\n",
    "soup = BeautifulSoup(response.text, 'html.parser')\n",
    "base_link = 'http://www.imfdb.org'\n"
   ]
  },
  {
   "cell_type": "code",
   "execution_count": 50,
   "metadata": {},
   "outputs": [],
   "source": [
    "category_pages = []\n",
    "tables = soup.find_all('ul')\n",
    "category_table = tables[0]\n",
    "category_links = category_table.find_all('a', href = True)\n",
    "for i in category_links: \n",
    "    category_pages.append(f\"{base_link}{i['href']}\")\n"
   ]
  },
  {
   "cell_type": "code",
   "execution_count": 51,
   "metadata": {},
   "outputs": [
    {
     "data": {
      "text/plain": [
       "['http://www.imfdb.org/wiki/File:Hitching.jpg',\n",
       " 'http://www.imfdb.org/wiki/The_Hitcher_(1986)',\n",
       " 'http://www.imfdb.org/wiki/File:Quick87.jpg',\n",
       " 'http://www.imfdb.org/wiki/The_Quick_and_the_Dead_(1987)',\n",
       " 'http://www.imfdb.org/wiki/File:Dawn_s_early_light.jpg',\n",
       " 'http://www.imfdb.org/wiki/By_Dawn%27s_Early_Light',\n",
       " 'http://www.imfdb.org/wiki/File:Full_Eclipse.jpg',\n",
       " 'http://www.imfdb.org/wiki/Full_Eclipse',\n",
       " 'http://www.imfdb.org/wiki/File:CitizenXPoster.jpg',\n",
       " 'http://www.imfdb.org/wiki/Citizen_X',\n",
       " 'http://www.imfdb.org/wiki/File:Tuskegee-airmen-DVDcover.jpg',\n",
       " 'http://www.imfdb.org/wiki/The_Tuskegee_Airmen',\n",
       " 'http://www.imfdb.org/wiki/File:Truman1995.jpg',\n",
       " 'http://www.imfdb.org/wiki/Truman',\n",
       " 'http://www.imfdb.org/wiki/File:TCK.jpg',\n",
       " 'http://www.imfdb.org/wiki/The_Cherokee_Kid',\n",
       " 'http://www.imfdb.org/wiki/File:Gotti_poster.jpg',\n",
       " 'http://www.imfdb.org/wiki/Gotti',\n",
       " 'http://www.imfdb.org/wiki/File:PentagonWarsCover.jpg',\n",
       " 'http://www.imfdb.org/wiki/Pentagon_Wars,_The',\n",
       " 'http://www.imfdb.org/wiki/File:Trumpets.jpg',\n",
       " 'http://www.imfdb.org/wiki/When_Trumpets_Fade',\n",
       " 'http://www.imfdb.org/wiki/File:HoS_poster.jpg',\n",
       " 'http://www.imfdb.org/wiki/House_of_Saddam',\n",
       " 'http://www.imfdb.org/wiki/File:HG03.jpg',\n",
       " 'http://www.imfdb.org/wiki/Hemingway_%26_Gellhorn',\n",
       " 'http://www.imfdb.org/wiki/File:PhilS.jpg',\n",
       " 'http://www.imfdb.org/wiki/Phil_Spector',\n",
       " 'http://www.imfdb.org/wiki/File:Ent15.jpg',\n",
       " 'http://www.imfdb.org/wiki/Entourage_(2015)',\n",
       " 'http://www.imfdb.org/wiki/File:ATW-poster.jpg',\n",
       " 'http://www.imfdb.org/wiki/All_the_Way',\n",
       " 'http://www.imfdb.org/wiki/File:Deadwood19.jpg',\n",
       " 'http://www.imfdb.org/wiki/Deadwood:_The_Movie']"
      ]
     },
     "execution_count": 51,
     "metadata": {},
     "output_type": "execute_result"
    }
   ],
   "source": [
    "category_pages"
   ]
  },
  {
   "cell_type": "code",
   "execution_count": 52,
   "metadata": {},
   "outputs": [
    {
     "data": {
      "text/plain": [
       "['http://www.imfdb.org/wiki/The_Hitcher_(1986)',\n",
       " 'http://www.imfdb.org/wiki/The_Quick_and_the_Dead_(1987)',\n",
       " 'http://www.imfdb.org/wiki/By_Dawn%27s_Early_Light',\n",
       " 'http://www.imfdb.org/wiki/Full_Eclipse',\n",
       " 'http://www.imfdb.org/wiki/Citizen_X',\n",
       " 'http://www.imfdb.org/wiki/The_Tuskegee_Airmen',\n",
       " 'http://www.imfdb.org/wiki/Truman',\n",
       " 'http://www.imfdb.org/wiki/The_Cherokee_Kid',\n",
       " 'http://www.imfdb.org/wiki/Gotti',\n",
       " 'http://www.imfdb.org/wiki/Pentagon_Wars,_The',\n",
       " 'http://www.imfdb.org/wiki/When_Trumpets_Fade',\n",
       " 'http://www.imfdb.org/wiki/House_of_Saddam',\n",
       " 'http://www.imfdb.org/wiki/Hemingway_%26_Gellhorn',\n",
       " 'http://www.imfdb.org/wiki/Phil_Spector',\n",
       " 'http://www.imfdb.org/wiki/Entourage_(2015)',\n",
       " 'http://www.imfdb.org/wiki/All_the_Way',\n",
       " 'http://www.imfdb.org/wiki/Deadwood:_The_Movie']"
      ]
     },
     "execution_count": 52,
     "metadata": {},
     "output_type": "execute_result"
    }
   ],
   "source": [
    "import re\n",
    "result = [f for f in category_pages if re.search(r'^(?!.*(jpg|JPG)).*$', f)] \n",
    "\n",
    "result"
   ]
  },
  {
   "cell_type": "code",
   "execution_count": 17,
   "metadata": {},
   "outputs": [],
   "source": [
    "def img_download(image, index, i, channel): \n",
    "    response = requests.get(image, stream = True)\n",
    "    with open(f'IMFDB/{channel}/img{index}_{i}.jpg', 'wb') as out_file:\n",
    "        shutil.copyfileobj(response.raw, out_file)\n",
    "    del response\n",
    "\n",
    "def get_imgs(gun_image_list, index, channel):\n",
    "    channel = channel\n",
    "    index = index\n",
    "    for i in range(len(gun_image_list)):        \n",
    "        gun_image = (f\"{base_link}{gun_image_list[i]['src']}\")\n",
    "        img_download(gun_image, index, i, channel)\n"
   ]
  },
  {
   "cell_type": "code",
   "execution_count": 114,
   "metadata": {},
   "outputs": [],
   "source": [
    "global index\n",
    "index = 0\n",
    "for i in range(len(result)):    \n",
    "    response = requests.get(result[i])\n",
    "    soup = BeautifulSoup(response.text, 'html.parser')\n",
    "    gun_image_list = soup.find_all('img', class_ = 'thumbimage')\n",
    "    get_imgs(gun_image_list, index, channel = 'HBO')\n",
    "    index += 1\n"
   ]
  },
  {
   "cell_type": "code",
   "execution_count": 76,
   "metadata": {},
   "outputs": [
    {
     "data": {
      "text/plain": [
       "36"
      ]
     },
     "execution_count": 76,
     "metadata": {},
     "output_type": "execute_result"
    }
   ],
   "source": [
    "len(gun_image_list)"
   ]
  },
  {
   "cell_type": "markdown",
   "metadata": {},
   "source": [
    "## Netflix"
   ]
  },
  {
   "cell_type": "code",
   "execution_count": 21,
   "metadata": {},
   "outputs": [],
   "source": [
    "response = requests.get('http://www.imfdb.org/wiki/Category:Netflix')\n",
    "soup = BeautifulSoup(response.text, 'html.parser')\n",
    "base_link = 'http://www.imfdb.org'\n"
   ]
  },
  {
   "cell_type": "code",
   "execution_count": 22,
   "metadata": {},
   "outputs": [],
   "source": [
    "category_pages = []\n",
    "tables = soup.find_all('ul')\n",
    "category_table = tables[0]\n",
    "category_links = category_table.find_all('a', href = True)\n",
    "for i in category_links: \n",
    "    category_pages.append(f\"{base_link}{i['href']}\")\n"
   ]
  },
  {
   "cell_type": "code",
   "execution_count": 23,
   "metadata": {},
   "outputs": [
    {
     "data": {
      "text/plain": [
       "['http://www.imfdb.org/wiki/File:Beasts.jpg',\n",
       " 'http://www.imfdb.org/wiki/Beasts_of_No_Nation',\n",
       " 'http://www.imfdb.org/wiki/File:TR6.jpg',\n",
       " 'http://www.imfdb.org/wiki/The_Ridiculous_6',\n",
       " 'http://www.imfdb.org/wiki/File:The_Bad_Batch_poster.jpg',\n",
       " 'http://www.imfdb.org/wiki/The_Bad_Batch',\n",
       " 'http://www.imfdb.org/wiki/File:Siege_of_Jadotville.jpg',\n",
       " 'http://www.imfdb.org/wiki/The_Siege_of_Jadotville',\n",
       " 'http://www.imfdb.org/wiki/File:IDFaHiTWA_poster.jpg',\n",
       " 'http://www.imfdb.org/wiki/I_Don%27t_Feel_at_Home_in_This_World_Anymore',\n",
       " 'http://www.imfdb.org/wiki/File:SandC.jpg',\n",
       " 'http://www.imfdb.org/wiki/Sand_Castle',\n",
       " 'http://www.imfdb.org/wiki/File:WarM.jpg',\n",
       " 'http://www.imfdb.org/wiki/War_Machine',\n",
       " 'http://www.imfdb.org/wiki/File:DN_NFX_poster.jpeg',\n",
       " 'http://www.imfdb.org/wiki/Death_Note_(2017)',\n",
       " 'http://www.imfdb.org/wiki/File:1922.jpg',\n",
       " 'http://www.imfdb.org/wiki/1922_(2017)',\n",
       " 'http://www.imfdb.org/wiki/File:ECC.jpg',\n",
       " 'http://www.imfdb.org/wiki/El_Camino_Christmas',\n",
       " 'http://www.imfdb.org/wiki/File:Thebabysitter.jpg',\n",
       " 'http://www.imfdb.org/wiki/The_Babysitter',\n",
       " 'http://www.imfdb.org/wiki/File:BrightPoster.jpg',\n",
       " 'http://www.imfdb.org/wiki/Bright',\n",
       " 'http://www.imfdb.org/wiki/File:CloverP.jpg',\n",
       " 'http://www.imfdb.org/wiki/The_Cloverfield_Paradox',\n",
       " 'http://www.imfdb.org/wiki/File:BirdBox.jpg',\n",
       " 'http://www.imfdb.org/wiki/Bird_Box',\n",
       " 'http://www.imfdb.org/wiki/File:BOBS.jpg',\n",
       " 'http://www.imfdb.org/wiki/The_Ballad_of_Buster_Scruggs',\n",
       " 'http://www.imfdb.org/wiki/File:Hold_the_Dark_poster.jpg',\n",
       " 'http://www.imfdb.org/wiki/Hold_the_Dark',\n",
       " 'http://www.imfdb.org/wiki/File:July22_poster_.jpg',\n",
       " 'http://www.imfdb.org/wiki/22_July',\n",
       " 'http://www.imfdb.org/wiki/File:Close.jpg',\n",
       " 'http://www.imfdb.org/wiki/Close_(2019)',\n",
       " 'http://www.imfdb.org/wiki/File:TripleF.jpg',\n",
       " 'http://www.imfdb.org/wiki/Triple_Frontier',\n",
       " 'http://www.imfdb.org/wiki/File:Highwaymen.jpg',\n",
       " 'http://www.imfdb.org/wiki/The_Highwaymen',\n",
       " 'http://www.imfdb.org/wiki/File:Irishman.jpg',\n",
       " 'http://www.imfdb.org/wiki/The_Irishman',\n",
       " 'http://www.imfdb.org/wiki/File:ECABBM.jpg',\n",
       " 'http://www.imfdb.org/wiki/El_Camino:_A_Breaking_Bad_Movie',\n",
       " 'http://www.imfdb.org/wiki/File:6U_328.jpg',\n",
       " 'http://www.imfdb.org/wiki/6_Underground',\n",
       " 'http://www.imfdb.org/wiki/File:Extraction_2020_poster.jpg',\n",
       " 'http://www.imfdb.org/wiki/Extraction_(2020)',\n",
       " 'http://www.imfdb.org/wiki/File:Da5B.jpg',\n",
       " 'http://www.imfdb.org/wiki/Da_5_Bloods',\n",
       " 'http://www.imfdb.org/wiki/File:Old_guard_poster.jpg',\n",
       " 'http://www.imfdb.org/wiki/The_Old_Guard',\n",
       " 'http://www.imfdb.org/wiki/File:Army_of_the_Dead_(2021_film).jpg',\n",
       " 'http://www.imfdb.org/wiki/Army_of_the_Dead']"
      ]
     },
     "execution_count": 23,
     "metadata": {},
     "output_type": "execute_result"
    }
   ],
   "source": [
    "category_pages"
   ]
  },
  {
   "cell_type": "code",
   "execution_count": 24,
   "metadata": {},
   "outputs": [
    {
     "data": {
      "text/plain": [
       "['http://www.imfdb.org/wiki/Beasts_of_No_Nation',\n",
       " 'http://www.imfdb.org/wiki/The_Ridiculous_6',\n",
       " 'http://www.imfdb.org/wiki/The_Bad_Batch',\n",
       " 'http://www.imfdb.org/wiki/The_Siege_of_Jadotville',\n",
       " 'http://www.imfdb.org/wiki/I_Don%27t_Feel_at_Home_in_This_World_Anymore',\n",
       " 'http://www.imfdb.org/wiki/Sand_Castle',\n",
       " 'http://www.imfdb.org/wiki/War_Machine',\n",
       " 'http://www.imfdb.org/wiki/Death_Note_(2017)',\n",
       " 'http://www.imfdb.org/wiki/1922_(2017)',\n",
       " 'http://www.imfdb.org/wiki/El_Camino_Christmas',\n",
       " 'http://www.imfdb.org/wiki/The_Babysitter',\n",
       " 'http://www.imfdb.org/wiki/Bright',\n",
       " 'http://www.imfdb.org/wiki/The_Cloverfield_Paradox',\n",
       " 'http://www.imfdb.org/wiki/Bird_Box',\n",
       " 'http://www.imfdb.org/wiki/The_Ballad_of_Buster_Scruggs',\n",
       " 'http://www.imfdb.org/wiki/Hold_the_Dark',\n",
       " 'http://www.imfdb.org/wiki/22_July',\n",
       " 'http://www.imfdb.org/wiki/Close_(2019)',\n",
       " 'http://www.imfdb.org/wiki/Triple_Frontier',\n",
       " 'http://www.imfdb.org/wiki/The_Highwaymen',\n",
       " 'http://www.imfdb.org/wiki/The_Irishman',\n",
       " 'http://www.imfdb.org/wiki/El_Camino:_A_Breaking_Bad_Movie',\n",
       " 'http://www.imfdb.org/wiki/6_Underground',\n",
       " 'http://www.imfdb.org/wiki/Extraction_(2020)',\n",
       " 'http://www.imfdb.org/wiki/Da_5_Bloods',\n",
       " 'http://www.imfdb.org/wiki/The_Old_Guard',\n",
       " 'http://www.imfdb.org/wiki/Army_of_the_Dead']"
      ]
     },
     "execution_count": 24,
     "metadata": {},
     "output_type": "execute_result"
    }
   ],
   "source": [
    "result = [f for f in category_pages if re.search(r'^(?!.*(jpg|JPG|jpeg)).*$', f)] \n",
    "result"
   ]
  },
  {
   "cell_type": "code",
   "execution_count": 26,
   "metadata": {},
   "outputs": [],
   "source": [
    "global index\n",
    "index = 0\n",
    "for i in range(len(result)):    \n",
    "    response = requests.get(result[i])\n",
    "    soup = BeautifulSoup(response.text, 'html.parser')\n",
    "    gun_image_list = soup.find_all('img', class_ = 'thumbimage')\n",
    "    get_imgs(gun_image_list, index, channel = 'Netflix')\n",
    "    index += 1\n"
   ]
  },
  {
   "cell_type": "code",
   "execution_count": null,
   "metadata": {},
   "outputs": [],
   "source": []
  },
  {
   "cell_type": "markdown",
   "metadata": {},
   "source": [
    "## Tarantino"
   ]
  },
  {
   "cell_type": "code",
   "execution_count": 11,
   "metadata": {},
   "outputs": [],
   "source": [
    "from bs4 import BeautifulSoup\n",
    "import pandas as pd\n",
    "import numpy as np\n",
    "import requests\n",
    "import shutil\n",
    "\n",
    "response = requests.get('http://www.imfdb.org/wiki/Category:Quentin_Tarantino')\n",
    "soup = BeautifulSoup(response.text, 'html.parser')\n",
    "base_link = 'http://www.imfdb.org'\n"
   ]
  },
  {
   "cell_type": "code",
   "execution_count": 12,
   "metadata": {},
   "outputs": [],
   "source": [
    "category_pages = []\n",
    "tables = soup.find_all('ul')\n",
    "category_table = tables[0]\n",
    "category_links = category_table.find_all('a', href = True)\n",
    "for i in category_links: \n",
    "    category_pages.append(f\"{base_link}{i['href']}\")\n"
   ]
  },
  {
   "cell_type": "code",
   "execution_count": 13,
   "metadata": {},
   "outputs": [
    {
     "data": {
      "text/plain": [
       "['http://www.imfdb.org/wiki/File:Reservoir_dogs_poster.jpg',\n",
       " 'http://www.imfdb.org/wiki/Reservoir_Dogs',\n",
       " 'http://www.imfdb.org/wiki/File:Pulp-Fiction-Poster.jpg',\n",
       " 'http://www.imfdb.org/wiki/Pulp_Fiction',\n",
       " 'http://www.imfdb.org/wiki/File:Poster_Jackie_Brown_with_Pam_Grier.jpg',\n",
       " 'http://www.imfdb.org/wiki/Jackie_Brown',\n",
       " 'http://www.imfdb.org/wiki/File:Killbillposter.jpg',\n",
       " 'http://www.imfdb.org/wiki/Kill_Bill_Vol._1',\n",
       " 'http://www.imfdb.org/wiki/File:Killbill2poster.jpg',\n",
       " 'http://www.imfdb.org/wiki/Kill_Bill_Vol._2',\n",
       " 'http://www.imfdb.org/wiki/File:SC-Poster.jpg',\n",
       " 'http://www.imfdb.org/wiki/Sin_City',\n",
       " 'http://www.imfdb.org/wiki/File:Death-proof3.jpg',\n",
       " 'http://www.imfdb.org/wiki/Death_Proof',\n",
       " 'http://www.imfdb.org/wiki/File:Inglouriousbasterdsposter.jpg',\n",
       " 'http://www.imfdb.org/wiki/Inglourious_Basterds_(2009)',\n",
       " 'http://www.imfdb.org/wiki/File:Django_Unchained_Teaser_Poster.jpg',\n",
       " 'http://www.imfdb.org/wiki/Django_Unchained',\n",
       " 'http://www.imfdb.org/wiki/File:TH8.jpg',\n",
       " 'http://www.imfdb.org/wiki/The_Hateful_Eight',\n",
       " 'http://www.imfdb.org/wiki/File:OUATIH.jpg',\n",
       " 'http://www.imfdb.org/wiki/Once_Upon_A_Time_In_Hollywood']"
      ]
     },
     "execution_count": 13,
     "metadata": {},
     "output_type": "execute_result"
    }
   ],
   "source": [
    "category_pages"
   ]
  },
  {
   "cell_type": "code",
   "execution_count": 15,
   "metadata": {},
   "outputs": [
    {
     "data": {
      "text/plain": [
       "['http://www.imfdb.org/wiki/Reservoir_Dogs',\n",
       " 'http://www.imfdb.org/wiki/Pulp_Fiction',\n",
       " 'http://www.imfdb.org/wiki/Jackie_Brown',\n",
       " 'http://www.imfdb.org/wiki/Kill_Bill_Vol._1',\n",
       " 'http://www.imfdb.org/wiki/Kill_Bill_Vol._2',\n",
       " 'http://www.imfdb.org/wiki/Sin_City',\n",
       " 'http://www.imfdb.org/wiki/Death_Proof',\n",
       " 'http://www.imfdb.org/wiki/Inglourious_Basterds_(2009)',\n",
       " 'http://www.imfdb.org/wiki/Django_Unchained',\n",
       " 'http://www.imfdb.org/wiki/The_Hateful_Eight',\n",
       " 'http://www.imfdb.org/wiki/Once_Upon_A_Time_In_Hollywood']"
      ]
     },
     "execution_count": 15,
     "metadata": {},
     "output_type": "execute_result"
    }
   ],
   "source": [
    "import re\n",
    "\n",
    "result = [f for f in category_pages if re.search(r'^(?!.*(jpg|JPG|jpeg)).*$', f)] \n",
    "result"
   ]
  },
  {
   "cell_type": "code",
   "execution_count": 16,
   "metadata": {},
   "outputs": [
    {
     "data": {
      "text/plain": [
       "11"
      ]
     },
     "execution_count": 16,
     "metadata": {},
     "output_type": "execute_result"
    }
   ],
   "source": [
    "len(result)"
   ]
  },
  {
   "cell_type": "code",
   "execution_count": 20,
   "metadata": {},
   "outputs": [],
   "source": [
    "global index\n",
    "index = 0\n",
    "for i in range(len(result)):    \n",
    "    response = requests.get(result[i])\n",
    "    soup = BeautifulSoup(response.text, 'html.parser')\n",
    "    gun_image_list = soup.find_all('img', class_ = 'thumbimage')\n",
    "    get_imgs(gun_image_list, index, channel = 'QT')\n",
    "    index += 1\n"
   ]
  },
  {
   "cell_type": "code",
   "execution_count": null,
   "metadata": {},
   "outputs": [],
   "source": []
  }
 ],
 "metadata": {
  "kernelspec": {
   "display_name": "Python 3",
   "language": "python",
   "name": "python3"
  },
  "language_info": {
   "codemirror_mode": {
    "name": "ipython",
    "version": 3
   },
   "file_extension": ".py",
   "mimetype": "text/x-python",
   "name": "python",
   "nbconvert_exporter": "python",
   "pygments_lexer": "ipython3",
   "version": "3.8.5"
  }
 },
 "nbformat": 4,
 "nbformat_minor": 4
}
